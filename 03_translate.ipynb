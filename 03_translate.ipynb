{
 "metadata": {
  "language_info": {
   "codemirror_mode": {
    "name": "ipython",
    "version": 3
   },
   "file_extension": ".py",
   "mimetype": "text/x-python",
   "name": "python",
   "nbconvert_exporter": "python",
   "pygments_lexer": "ipython3",
   "version": 3
  },
  "orig_nbformat": 2
 },
 "nbformat": 4,
 "nbformat_minor": 2,
 "cells": [
  {
   "source": [
    "# Dead Simple Translation\n",
    "\n",
    "## Requirements\n",
    "\n",
    "Given a word for word translation dictionary, create a translate function that applies that profound knowledge to inputs in english.\n",
    "\n",
    "1. Read in the file, a variable with the file name is provided.\n",
    "1. Find out the format.\n",
    "1. Convert the contents of the file to a dictionary.\n",
    "1. Write a function that takes a string, splits it into words, translates and makes a string again.\n",
    "1. Use docstrings and at least one doctest—where applicable!\n",
    "1. Write [unit tests](https://docs.python.org/3/library/unittest.html)\n",
    "\n",
    "### Notes\n",
    "\n",
    "- Preferrably points 1 and 2 in one function\n",
    "- Think about where/how you keep your data, especially wrt. to unit tests.\n",
    "- You don't have to think about letter case, but you may.\n",
    "- Punctuation is just skipped over, but it should appear in the output.\n",
    "- Words missing in the dictionary should be kept as is. But you might [extend the dictionary](https://docs.python.org/3/library/collections.html?highlight=chainmap#chainmap-objects).\n",
    "\n",
    "### Stretch Goals\n",
    "\n",
    "- Also find words with different letter case.\n",
    "- Accept a marker word that is displayed for every missing word.\n",
    "- Provide a list of missing words for the translators to work on.\n",
    "\n",
    "## Inputs\n",
    "\n",
    "Translate all these:\n",
    "\n",
    "<pre>a cat on a tree</pre>\n",
    "\n",
    "<pre>the cat runs from the big dog</pre>\n",
    "\n",
    "<pre>roses are red\n",
    "violets are blue\n",
    "beer costs less\n",
    "than a dinner for two</pre>"
   ],
   "cell_type": "markdown",
   "metadata": {}
  },
  {
   "cell_type": "code",
   "execution_count": null,
   "metadata": {},
   "outputs": [],
   "source": [
    "dict_file = \"dictionary.txt\""
   ]
  }
 ]
}