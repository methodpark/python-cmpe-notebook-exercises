{
 "metadata": {
  "language_info": {
   "codemirror_mode": {
    "name": "ipython",
    "version": 3
   },
   "file_extension": ".py",
   "mimetype": "text/x-python",
   "name": "python",
   "nbconvert_exporter": "python",
   "pygments_lexer": "ipython3",
   "version": 3
  },
  "orig_nbformat": 2
 },
 "nbformat": 4,
 "nbformat_minor": 2,
 "cells": [
  {
   "source": [
    "Using a list comprehension, find the sum of the squares of even numbers below 99."
   ],
   "cell_type": "markdown",
   "metadata": {}
  },
  {
   "cell_type": "code",
   "execution_count": null,
   "metadata": {},
   "outputs": [],
   "source": []
  },
  {
   "cell_type": "code",
   "execution_count": null,
   "metadata": {},
   "outputs": [],
   "source": [
    "phonebook = {\n",
    "    \"Anna\": \"555-3543836\",\n",
    "    \"Bert\": \"555-1324678\",\n",
    "    \"Charlie\": \"+1-5555-997732\"\n",
    "}"
   ]
  },
  {
   "source": [
    "Invert the phone book using a dictionary comprehension."
   ],
   "cell_type": "markdown",
   "metadata": {}
  },
  {
   "cell_type": "code",
   "execution_count": null,
   "metadata": {},
   "outputs": [],
   "source": [
    "# who_called =\n",
    "\n",
    "assert who_called[\"555-1324678\"] == \"Bert\""
   ]
  },
  {
   "source": [
    "Create another inversion that prepends the country prefix like Charlie's number (assume US)."
   ],
   "cell_type": "markdown",
   "metadata": {}
  },
  {
   "cell_type": "code",
   "execution_count": null,
   "metadata": {},
   "outputs": [],
   "source": [
    "# who_international =\n",
    "\n",
    "assert who_international[\"+1-555-3543836\"] == \"Anna\""
   ]
  },
  {
   "source": [
    "Find all unique area codes (before the last hyphen) using a comprehension. You might [need](https://docs.python.org/3/library/stdtypes.html) of of:\n",
    "\n",
    "- find\n",
    "- index\n",
    "- rfind\n",
    "- rindex"
   ],
   "cell_type": "markdown",
   "metadata": {}
  },
  {
   "cell_type": "code",
   "execution_count": null,
   "metadata": {},
   "outputs": [],
   "source": [
    "# areas =\n",
    "\n"
   ]
  }
 ]
}